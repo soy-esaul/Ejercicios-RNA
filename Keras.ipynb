{
  "nbformat": 4,
  "nbformat_minor": 0,
  "metadata": {
    "colab": {
      "name": "Keras",
      "provenance": [],
      "collapsed_sections": [],
      "include_colab_link": true
    },
    "kernelspec": {
      "name": "python3",
      "display_name": "Python 3"
    }
  },
  "cells": [
    {
      "cell_type": "markdown",
      "metadata": {
        "id": "view-in-github",
        "colab_type": "text"
      },
      "source": [
        "<a href=\"https://colab.research.google.com/github/soy-esaul/Ejercicios-RNA/blob/main/Keras.ipynb\" target=\"_parent\"><img src=\"https://colab.research.google.com/assets/colab-badge.svg\" alt=\"Open In Colab\"/></a>"
      ]
    },
    {
      "cell_type": "code",
      "metadata": {
        "id": "1x51FzJTd303"
      },
      "source": [
        "# Importamos las librerías:\n",
        "# Numpy para manejo de arreglos\n",
        "# Sequential para el modelo feedforward simple\n",
        "# Dense para capas con una matriz de pesos completa\n",
        "import numpy as np\n",
        "from keras.models import Sequential\n",
        "from keras.layers.core import Dense\n",
        " \n",
        "# El conjunto de entrenamiento está dado por pares de valores\n",
        "training_data = np.array([[0,0],[0,1],[1,0],[1,1]], \"float32\")\n",
        "\n",
        "target_data = np.array([[0],[1],[1],[0]], \"float32\")\n",
        "\n",
        "# Creamos el modleo de tipo secuencial\n",
        "model = Sequential()\n",
        "\n",
        "# Agregamos una capa densa con 16 salidas y 2 inputs, la función de activación es ReLU\n",
        "model.add(Dense(16, input_dim=2, activation='relu'))\n",
        "# Se agrega una capa densa más, esta tiene sólo un nodo y la función de activación es sigmoide\n",
        "model.add(Dense(1, activation='sigmoid'))"
      ],
      "execution_count": null,
      "outputs": []
    },
    {
      "cell_type": "code",
      "metadata": {
        "id": "jCne9OKfd7Pf",
        "colab": {
          "base_uri": "https://localhost:8080/"
        },
        "outputId": "4b488509-099b-49e8-acc5-67dbecac0380"
      },
      "source": [
        "# Se define el modelo con una funcióón de costo, un optimizador \n",
        "# y un conjunto de métricas\n",
        "model.compile(loss='mean_squared_error',\n",
        "              optimizer='adam',\n",
        "              metrics=['binary_accuracy'])\n",
        "\n",
        "model.fit(training_data, target_data, epochs=100, verbose=0)\n",
        " \n",
        "# evaluamos el modelo\n",
        "scores = model.evaluate(training_data, target_data)\n",
        " \n",
        "print(\"\\n%s: %.2f%%\" % (model.metrics_names[1], scores[1]*100))\n",
        "print (model.predict(training_data).round())"
      ],
      "execution_count": null,
      "outputs": [
        {
          "output_type": "stream",
          "text": [
            "1/1 [==============================] - 0s 156ms/step - loss: 0.2333 - binary_accuracy: 0.7500\n",
            "\n",
            "binary_accuracy: 75.00%\n",
            "[[1.]\n",
            " [1.]\n",
            " [1.]\n",
            " [0.]]\n"
          ],
          "name": "stdout"
        }
      ]
    },
    {
      "cell_type": "code",
      "metadata": {
        "id": "amXSMHcbCruG",
        "colab": {
          "base_uri": "https://localhost:8080/"
        },
        "outputId": "a29107fc-9a1e-4277-8a36-3df421a0d57d"
      },
      "source": [
        "# Se define el modelo con una función de costo, un optimizador \n",
        "# y un conjunto de métricas\n",
        "model.compile(loss='binary_crossentropy',\n",
        "              optimizer='adam',\n",
        "              metrics=['binary_accuracy'])\n",
        "\n",
        "model.fit(training_data, target_data, epochs=100, verbose=0)\n",
        " \n",
        "# evaluamos el modelo\n",
        "scores = model.evaluate(training_data, target_data)\n",
        " \n",
        "print(\"\\n%s: %.2f%%\" % (model.metrics_names[1], scores[1]*100))\n",
        "print (model.predict(training_data).round())"
      ],
      "execution_count": null,
      "outputs": [
        {
          "output_type": "stream",
          "text": [
            "1/1 [==============================] - 0s 171ms/step - loss: 0.5958 - binary_accuracy: 1.0000\n",
            "\n",
            "binary_accuracy: 100.00%\n",
            "[[0.]\n",
            " [1.]\n",
            " [1.]\n",
            " [0.]]\n"
          ],
          "name": "stdout"
        }
      ]
    },
    {
      "cell_type": "markdown",
      "metadata": {
        "id": "-d8HhFWGFgMK"
      },
      "source": [
        "# Ejercicios\n",
        "\n",
        "1. ¿Qué única variable debes modificar para mejorar la predicción en el código anterior?\n",
        "\n",
        "2. Crea un modelo LSTM en keras llamado ```model_lstm```. Este modelo debe tener la misma función de activación en todas las capas, una arquitectura 4, 3, 2, 1.\n",
        "\n",
        "3. Crea un pandas dataframe con el archivo ```airline-passengers``` que esta en la carpeta de Ejercicios.\n",
        "\n",
        "4. Grafica los datos del dataframe con la misma librería de pandas\n",
        "\n",
        "5. Crea un modelo lstm para hacer una predicción de estos datos. Puedes basarte en este tutorial:\n",
        "\n",
        "https://machinelearningmastery.com/time-series-prediction-lstm-recurrent-neural-networks-python-keras/\n",
        "\n",
        "6. Explica el modelo\n",
        "\n"
      ]
    },
    {
      "cell_type": "markdown",
      "metadata": {
        "id": "j6O9c6JZ1t1j"
      },
      "source": [
        "## Ejercicio 1\n"
      ]
    },
    {
      "cell_type": "markdown",
      "metadata": {
        "id": "ONGeeEKL8WQi"
      },
      "source": [
        "La variable que se puede cambiar es el tipo de error usado de ```mean_squared_error``` a ```binary_crossentropy```, ya que se trata de un problema de clasificación binaria, en el que es más conveniente penalizar de distinta manera los valores que más se alejen de los dos objetivos 0 y 1."
      ]
    },
    {
      "cell_type": "markdown",
      "metadata": {
        "id": "3u_1F6OB19_P"
      },
      "source": [
        "## Ejercicio 2"
      ]
    },
    {
      "cell_type": "code",
      "metadata": {
        "id": "2-RQOBNTGGIa"
      },
      "source": [
        "# Importamos la capa del tipo LSTM de Keras\n",
        "from keras.layers import LSTM\n",
        "\n",
        "# Creamos el modelo de topi secuencial\n",
        "model_lstm = Sequential()\n",
        "# Agregamos la primera capa de tipo LSTM de tamaño 3 con 4 entradas\n",
        "# El parámetro return_sequences=True sirve para que la salida tenga dimensión 4\n",
        "model_lstm.add(LSTM(3, input_dim=4, activation='sigmoid', return_sequences=True))\n",
        "# Creamos otra capa LSTM de tamaño 2\n",
        "model_lstm.add(LSTM(2, activation='sigmoid'))\n",
        "# Finalmente creamos una capa densa con una neurona\n",
        "model_lstm.add(Dense(1,activation='sigmoid'))"
      ],
      "execution_count": null,
      "outputs": []
    },
    {
      "cell_type": "markdown",
      "metadata": {
        "id": "sVAcFOV9m8d6"
      },
      "source": [
        "## Ejercicio 3"
      ]
    },
    {
      "cell_type": "code",
      "metadata": {
        "id": "D8vpbWgc2I45",
        "colab": {
          "base_uri": "https://localhost:8080/",
          "height": 419
        },
        "outputId": "34536013-d8c3-4436-9ae2-097ae621f0a7"
      },
      "source": [
        "# Importamos Pandas como pd\n",
        "import pandas as pd\n",
        "\n",
        "# Con la función read_csv convertimos el .CSV en un DataFrame\n",
        "dataset = pd.read_csv('airline-passengers.csv')\n",
        "dataset"
      ],
      "execution_count": null,
      "outputs": [
        {
          "output_type": "execute_result",
          "data": {
            "text/html": [
              "<div>\n",
              "<style scoped>\n",
              "    .dataframe tbody tr th:only-of-type {\n",
              "        vertical-align: middle;\n",
              "    }\n",
              "\n",
              "    .dataframe tbody tr th {\n",
              "        vertical-align: top;\n",
              "    }\n",
              "\n",
              "    .dataframe thead th {\n",
              "        text-align: right;\n",
              "    }\n",
              "</style>\n",
              "<table border=\"1\" class=\"dataframe\">\n",
              "  <thead>\n",
              "    <tr style=\"text-align: right;\">\n",
              "      <th></th>\n",
              "      <th>Month</th>\n",
              "      <th>Passengers</th>\n",
              "    </tr>\n",
              "  </thead>\n",
              "  <tbody>\n",
              "    <tr>\n",
              "      <th>0</th>\n",
              "      <td>1949-01</td>\n",
              "      <td>112</td>\n",
              "    </tr>\n",
              "    <tr>\n",
              "      <th>1</th>\n",
              "      <td>1949-02</td>\n",
              "      <td>118</td>\n",
              "    </tr>\n",
              "    <tr>\n",
              "      <th>2</th>\n",
              "      <td>1949-03</td>\n",
              "      <td>132</td>\n",
              "    </tr>\n",
              "    <tr>\n",
              "      <th>3</th>\n",
              "      <td>1949-04</td>\n",
              "      <td>129</td>\n",
              "    </tr>\n",
              "    <tr>\n",
              "      <th>4</th>\n",
              "      <td>1949-05</td>\n",
              "      <td>121</td>\n",
              "    </tr>\n",
              "    <tr>\n",
              "      <th>...</th>\n",
              "      <td>...</td>\n",
              "      <td>...</td>\n",
              "    </tr>\n",
              "    <tr>\n",
              "      <th>139</th>\n",
              "      <td>1960-08</td>\n",
              "      <td>606</td>\n",
              "    </tr>\n",
              "    <tr>\n",
              "      <th>140</th>\n",
              "      <td>1960-09</td>\n",
              "      <td>508</td>\n",
              "    </tr>\n",
              "    <tr>\n",
              "      <th>141</th>\n",
              "      <td>1960-10</td>\n",
              "      <td>461</td>\n",
              "    </tr>\n",
              "    <tr>\n",
              "      <th>142</th>\n",
              "      <td>1960-11</td>\n",
              "      <td>390</td>\n",
              "    </tr>\n",
              "    <tr>\n",
              "      <th>143</th>\n",
              "      <td>1960-12</td>\n",
              "      <td>432</td>\n",
              "    </tr>\n",
              "  </tbody>\n",
              "</table>\n",
              "<p>144 rows × 2 columns</p>\n",
              "</div>"
            ],
            "text/plain": [
              "       Month  Passengers\n",
              "0    1949-01         112\n",
              "1    1949-02         118\n",
              "2    1949-03         132\n",
              "3    1949-04         129\n",
              "4    1949-05         121\n",
              "..       ...         ...\n",
              "139  1960-08         606\n",
              "140  1960-09         508\n",
              "141  1960-10         461\n",
              "142  1960-11         390\n",
              "143  1960-12         432\n",
              "\n",
              "[144 rows x 2 columns]"
            ]
          },
          "metadata": {
            "tags": []
          },
          "execution_count": 47
        }
      ]
    },
    {
      "cell_type": "markdown",
      "metadata": {
        "id": "mMZKnv_JnApP"
      },
      "source": [
        "## Ejercicio 4"
      ]
    },
    {
      "cell_type": "code",
      "metadata": {
        "colab": {
          "base_uri": "https://localhost:8080/",
          "height": 282
        },
        "id": "OKn9K4t0mNLS",
        "outputId": "3036336e-4feb-4c35-adc7-288e654b976c"
      },
      "source": [
        "# Usamos el método plot para DataFrames de la librería Pandas:\n",
        "dataset.plot()"
      ],
      "execution_count": null,
      "outputs": [
        {
          "output_type": "execute_result",
          "data": {
            "text/plain": [
              "<matplotlib.axes._subplots.AxesSubplot at 0x7f2fff76e350>"
            ]
          },
          "metadata": {
            "tags": []
          },
          "execution_count": 48
        },
        {
          "output_type": "display_data",
          "data": {
            "image/png": "[encoded data removed]",
            "text/plain": [
              "<Figure size 432x288 with 1 Axes>"
            ]
          },
          "metadata": {
            "tags": [],
            "needs_background": "light"
          }
        }
      ]
    },
    {
      "cell_type": "markdown",
      "metadata": {
        "id": "Yxrf3p1RnKzt"
      },
      "source": [
        "## Ejercicio 5"
      ]
    },
    {
      "cell_type": "code",
      "metadata": {
        "id": "6p9Xvg336H2j"
      },
      "source": [
        "# Lo primero es preparar los datos para que puedan ser tomados como entrada por la red\n",
        "# Para esto los convertimos primero en un array de numpy, sin usar las fechas:\n",
        "data = dataset.values[:,1]\n",
        "data = data.astype('float32')"
      ],
      "execution_count": null,
      "outputs": []
    },
    {
      "cell_type": "code",
      "metadata": {
        "id": "5jKYdMi_K1yD"
      },
      "source": [
        "# Para poder trabajar mejor con la función sigmoide, escalamos los datos al rango [0,1]\n",
        "data = np.divide(data,np.max(data))"
      ],
      "execution_count": null,
      "outputs": []
    },
    {
      "cell_type": "code",
      "metadata": {
        "colab": {
          "base_uri": "https://localhost:8080/",
          "height": 282
        },
        "id": "lBXk36CRKBLQ",
        "outputId": "cd43d894-8c13-4916-cc4b-f5874f83c679"
      },
      "source": [
        "import matplotlib.pyplot as plt\n",
        "plt.plot(data)"
      ],
      "execution_count": null,
      "outputs": [
        {
          "output_type": "execute_result",
          "data": {
            "text/plain": [
              "[<matplotlib.lines.Line2D at 0x7f2fff651950>]"
            ]
          },
          "metadata": {
            "tags": []
          },
          "execution_count": 55
        },
        {
          "output_type": "display_data",
          "data": {
            "image/png": "[encoded data removed]",
            "text/plain": [
              "<Figure size 432x288 with 1 Axes>"
            ]
          },
          "metadata": {
            "tags": [],
            "needs_background": "light"
          }
        }
      ]
    },
    {
      "cell_type": "code",
      "metadata": {
        "colab": {
          "base_uri": "https://localhost:8080/",
          "height": 265
        },
        "id": "DruJVtTqLP7H",
        "outputId": "999f21a3-5e3a-4e02-9a16-ad2d1283fbba"
      },
      "source": [
        "# Dividimos el conjunto de datos en un conjunto de entrenamiento y otro de prueba\n",
        "# Usaremos 2/3 y 1/3 de los datos respectivamente\n",
        "train_length = int(0.67*len(data))\n",
        "test_length = len(data) - train_length\n",
        "train_set = data[:train_length]\n",
        "test_set = data[train_length:]\n",
        "\n",
        "plt.plot(train_set)\n",
        "test_positions = [i for i in range(train_length,len(dataset))]\n",
        "plt.plot(test_positions,test_set)\n",
        "plt.legend(['Entrenamiento', 'Prueba'])\n",
        "plt.show()"
      ],
      "execution_count": null,
      "outputs": [
        {
          "output_type": "display_data",
          "data": {
            "image/png": "[encoded data removed]",
            "text/plain": [
              "<Figure size 432x288 with 1 Axes>"
            ]
          },
          "metadata": {
            "tags": [],
            "needs_background": "light"
          }
        }
      ]
    },
    {
      "cell_type": "markdown",
      "metadata": {
        "id": "MJ8jD5USMk37"
      },
      "source": [
        "A continuación, definimos uan función que nos ayudará a convertir nuestro conjunto de datos en un conjunto de pares, donde el primer elemento corresponderá a la observación al tiempo $t$, mientras que el segundo elemento será la observación al tiempo $t-1$."
      ]
    },
    {
      "cell_type": "code",
      "metadata": {
        "id": "viZRQiQuMONG"
      },
      "source": [
        "def create_dataset(dataset, look_back=1):\n",
        "  '''\n",
        "  Esta función crea dos salidas, en la primera se encuentra un arreglo cuyas\n",
        "  columnas son el conjunto de datos con un desfase de 1 por cada posición que se\n",
        "  recorre hacia la derecha. En la segunda variable de salida se encuentra el conjunto\n",
        "  de datos desplazado la cantidad de veces que se indica en el argumento look_back\n",
        "  '''\n",
        "  dataX, dataY = [], []\n",
        "  for i in range(len(dataset)-look_back-1):\n",
        "    a = dataset[i:(i+look_back)]\n",
        "    dataX.append(a)\n",
        "    dataY.append(dataset[i + look_back])\n",
        "  return np.array(dataX), np.array(dataY)"
      ],
      "execution_count": null,
      "outputs": []
    },
    {
      "cell_type": "code",
      "metadata": {
        "id": "opLJJ7oDM-Sw"
      },
      "source": [
        "# Como queremos predecir un paso en el futuro, definimos la variable look_back igual a 1\n",
        "look_back = 1\n",
        "\n",
        "# Ahora creamos los conjuntos de entrenamiento y prueba con la función anterior:\n",
        "trainX, trainY = create_dataset(train_set, look_back)\n",
        "testX, testY = create_dataset(test_set, look_back)"
      ],
      "execution_count": null,
      "outputs": []
    },
    {
      "cell_type": "code",
      "metadata": {
        "id": "kDq07v2cNxEf"
      },
      "source": [
        "# Keras espera una entrada de forma (muestras, desfase, variables), entonces modificamos\n",
        "# los conjuntos de datos para que cumplan con estas características. En este caso,\n",
        "# el desfase lo hemos definido igual a 1, las muestras u observaciones son la cantidad total\n",
        "# de datos, y hay sólo una variable (el número de columnas del dataset)\n",
        "\n",
        "trainX = np.reshape(trainX, (trainX.shape[0], 1, trainX.shape[1]))\n",
        "testX = np.reshape(testX, (testX.shape[0], 1, testX.shape[1]))"
      ],
      "execution_count": null,
      "outputs": []
    },
    {
      "cell_type": "code",
      "metadata": {
        "colab": {
          "base_uri": "https://localhost:8080/"
        },
        "id": "qKeFu-BYRZUj",
        "outputId": "8c535815-16b6-4fbd-c9ea-98354b58305e"
      },
      "source": [
        "# Creamos ahora nuestra red neuronal LSTM en Keras\n",
        "# El modelo tendrá 4 módulos LSTM, un nodo de entrada y uno de salida\n",
        "\n",
        "model_1 = Sequential()\n",
        "model_1.add(LSTM(4, input_shape=(1,1)))\n",
        "model_1.add(Dense(1))\n",
        "model_1.compile(loss='mean_squared_error', optimizer='adam')\n",
        "model_1.fit(trainX, trainY, epochs=100, batch_size=1, verbose=2)"
      ],
      "execution_count": null,
      "outputs": [
        {
          "output_type": "stream",
          "text": [
            "Epoch 1/100\n",
            "94/94 - 1s - loss: 0.1034\n",
            "Epoch 2/100\n",
            "94/94 - 0s - loss: 0.0453\n",
            "Epoch 3/100\n",
            "94/94 - 0s - loss: 0.0200\n",
            "Epoch 4/100\n",
            "94/94 - 0s - loss: 0.0128\n",
            "Epoch 5/100\n",
            "94/94 - 0s - loss: 0.0115\n",
            "Epoch 6/100\n",
            "94/94 - 0s - loss: 0.0111\n",
            "Epoch 7/100\n",
            "94/94 - 0s - loss: 0.0108\n",
            "Epoch 8/100\n",
            "94/94 - 0s - loss: 0.0105\n",
            "Epoch 9/100\n",
            "94/94 - 0s - loss: 0.0102\n",
            "Epoch 10/100\n",
            "94/94 - 0s - loss: 0.0099\n",
            "Epoch 11/100\n",
            "94/94 - 0s - loss: 0.0095\n",
            "Epoch 12/100\n",
            "94/94 - 0s - loss: 0.0092\n",
            "Epoch 13/100\n",
            "94/94 - 0s - loss: 0.0088\n",
            "Epoch 14/100\n",
            "94/94 - 0s - loss: 0.0085\n",
            "Epoch 15/100\n",
            "94/94 - 0s - loss: 0.0082\n",
            "Epoch 16/100\n",
            "94/94 - 0s - loss: 0.0079\n",
            "Epoch 17/100\n",
            "94/94 - 0s - loss: 0.0075\n",
            "Epoch 18/100\n",
            "94/94 - 0s - loss: 0.0071\n",
            "Epoch 19/100\n",
            "94/94 - 0s - loss: 0.0068\n",
            "Epoch 20/100\n",
            "94/94 - 0s - loss: 0.0064\n",
            "Epoch 21/100\n",
            "94/94 - 0s - loss: 0.0061\n",
            "Epoch 22/100\n",
            "94/94 - 0s - loss: 0.0056\n",
            "Epoch 23/100\n",
            "94/94 - 0s - loss: 0.0053\n",
            "Epoch 24/100\n",
            "94/94 - 0s - loss: 0.0048\n",
            "Epoch 25/100\n",
            "94/94 - 0s - loss: 0.0044\n",
            "Epoch 26/100\n",
            "94/94 - 0s - loss: 0.0040\n",
            "Epoch 27/100\n",
            "94/94 - 0s - loss: 0.0036\n",
            "Epoch 28/100\n",
            "94/94 - 0s - loss: 0.0032\n",
            "Epoch 29/100\n",
            "94/94 - 0s - loss: 0.0027\n",
            "Epoch 30/100\n",
            "94/94 - 0s - loss: 0.0024\n",
            "Epoch 31/100\n",
            "94/94 - 0s - loss: 0.0020\n",
            "Epoch 32/100\n",
            "94/94 - 0s - loss: 0.0019\n",
            "Epoch 33/100\n",
            "94/94 - 0s - loss: 0.0017\n",
            "Epoch 34/100\n",
            "94/94 - 0s - loss: 0.0016\n",
            "Epoch 35/100\n",
            "94/94 - 0s - loss: 0.0015\n",
            "Epoch 36/100\n",
            "94/94 - 0s - loss: 0.0015\n",
            "Epoch 37/100\n",
            "94/94 - 0s - loss: 0.0015\n",
            "Epoch 38/100\n",
            "94/94 - 0s - loss: 0.0014\n",
            "Epoch 39/100\n",
            "94/94 - 0s - loss: 0.0014\n",
            "Epoch 40/100\n",
            "94/94 - 0s - loss: 0.0015\n",
            "Epoch 41/100\n",
            "94/94 - 0s - loss: 0.0015\n",
            "Epoch 42/100\n",
            "94/94 - 0s - loss: 0.0014\n",
            "Epoch 43/100\n",
            "94/94 - 0s - loss: 0.0014\n",
            "Epoch 44/100\n",
            "94/94 - 0s - loss: 0.0015\n",
            "Epoch 45/100\n",
            "94/94 - 0s - loss: 0.0014\n",
            "Epoch 46/100\n",
            "94/94 - 0s - loss: 0.0014\n",
            "Epoch 47/100\n",
            "94/94 - 0s - loss: 0.0014\n",
            "Epoch 48/100\n",
            "94/94 - 0s - loss: 0.0014\n",
            "Epoch 49/100\n",
            "94/94 - 0s - loss: 0.0014\n",
            "Epoch 50/100\n",
            "94/94 - 0s - loss: 0.0014\n",
            "Epoch 51/100\n",
            "94/94 - 0s - loss: 0.0014\n",
            "Epoch 52/100\n",
            "94/94 - 0s - loss: 0.0014\n",
            "Epoch 53/100\n",
            "94/94 - 0s - loss: 0.0014\n",
            "Epoch 54/100\n",
            "94/94 - 0s - loss: 0.0014\n",
            "Epoch 55/100\n",
            "94/94 - 0s - loss: 0.0014\n",
            "Epoch 56/100\n",
            "94/94 - 0s - loss: 0.0014\n",
            "Epoch 57/100\n",
            "94/94 - 0s - loss: 0.0015\n",
            "Epoch 58/100\n",
            "94/94 - 0s - loss: 0.0014\n",
            "Epoch 59/100\n",
            "94/94 - 0s - loss: 0.0014\n",
            "Epoch 60/100\n",
            "94/94 - 0s - loss: 0.0015\n",
            "Epoch 61/100\n",
            "94/94 - 0s - loss: 0.0014\n",
            "Epoch 62/100\n",
            "94/94 - 0s - loss: 0.0014\n",
            "Epoch 63/100\n",
            "94/94 - 0s - loss: 0.0014\n",
            "Epoch 64/100\n",
            "94/94 - 0s - loss: 0.0014\n",
            "Epoch 65/100\n",
            "94/94 - 0s - loss: 0.0014\n",
            "Epoch 66/100\n",
            "94/94 - 0s - loss: 0.0014\n",
            "Epoch 67/100\n",
            "94/94 - 0s - loss: 0.0014\n",
            "Epoch 68/100\n",
            "94/94 - 0s - loss: 0.0014\n",
            "Epoch 69/100\n",
            "94/94 - 0s - loss: 0.0014\n",
            "Epoch 70/100\n",
            "94/94 - 0s - loss: 0.0015\n",
            "Epoch 71/100\n",
            "94/94 - 0s - loss: 0.0015\n",
            "Epoch 72/100\n",
            "94/94 - 0s - loss: 0.0014\n",
            "Epoch 73/100\n",
            "94/94 - 0s - loss: 0.0014\n",
            "Epoch 74/100\n",
            "94/94 - 0s - loss: 0.0014\n",
            "Epoch 75/100\n",
            "94/94 - 0s - loss: 0.0015\n",
            "Epoch 76/100\n",
            "94/94 - 0s - loss: 0.0014\n",
            "Epoch 77/100\n",
            "94/94 - 0s - loss: 0.0015\n",
            "Epoch 78/100\n",
            "94/94 - 0s - loss: 0.0014\n",
            "Epoch 79/100\n",
            "94/94 - 0s - loss: 0.0015\n",
            "Epoch 80/100\n",
            "94/94 - 0s - loss: 0.0015\n",
            "Epoch 81/100\n",
            "94/94 - 0s - loss: 0.0014\n",
            "Epoch 82/100\n",
            "94/94 - 0s - loss: 0.0014\n",
            "Epoch 83/100\n",
            "94/94 - 0s - loss: 0.0014\n",
            "Epoch 84/100\n",
            "94/94 - 0s - loss: 0.0014\n",
            "Epoch 85/100\n",
            "94/94 - 0s - loss: 0.0014\n",
            "Epoch 86/100\n",
            "94/94 - 0s - loss: 0.0014\n",
            "Epoch 87/100\n",
            "94/94 - 0s - loss: 0.0015\n",
            "Epoch 88/100\n",
            "94/94 - 0s - loss: 0.0014\n",
            "Epoch 89/100\n",
            "94/94 - 0s - loss: 0.0014\n",
            "Epoch 90/100\n",
            "94/94 - 0s - loss: 0.0014\n",
            "Epoch 91/100\n",
            "94/94 - 0s - loss: 0.0014\n",
            "Epoch 92/100\n",
            "94/94 - 0s - loss: 0.0014\n",
            "Epoch 93/100\n",
            "94/94 - 0s - loss: 0.0014\n",
            "Epoch 94/100\n",
            "94/94 - 0s - loss: 0.0014\n",
            "Epoch 95/100\n",
            "94/94 - 0s - loss: 0.0015\n",
            "Epoch 96/100\n",
            "94/94 - 0s - loss: 0.0014\n",
            "Epoch 97/100\n",
            "94/94 - 0s - loss: 0.0014\n",
            "Epoch 98/100\n",
            "94/94 - 0s - loss: 0.0014\n",
            "Epoch 99/100\n",
            "94/94 - 0s - loss: 0.0014\n",
            "Epoch 100/100\n",
            "94/94 - 0s - loss: 0.0015\n"
          ],
          "name": "stdout"
        },
        {
          "output_type": "execute_result",
          "data": {
            "text/plain": [
              "<keras.callbacks.History at 0x7f2ff50f1290>"
            ]
          },
          "metadata": {
            "tags": []
          },
          "execution_count": 89
        }
      ]
    },
    {
      "cell_type": "code",
      "metadata": {
        "id": "TN7Bftd8SnUW"
      },
      "source": [
        "# Predecimos los valores para los conjuntos de entrenamiento y comprobación\n",
        "train_predict = model_1.predict(trainX)\n",
        "test_predict = model_1.predict(testX)\n",
        "\n",
        "# Reescalamos los conjuntos a sus valores originales\n",
        "train_predict = np.multiply(train_predict,np.max(dataset.values[:,1]))\n",
        "test_predict = np.multiply(test_predict,np.max(dataset.values[:,1]))\n",
        "trainY = np.multiply(trainY,np.max(dataset.values[:,1]))\n",
        "testY = np.multiply(testY,np.max(dataset.values[:,1]))"
      ],
      "execution_count": null,
      "outputs": []
    },
    {
      "cell_type": "code",
      "metadata": {
        "colab": {
          "base_uri": "https://localhost:8080/"
        },
        "id": "L5xvrSfHUFIp",
        "outputId": "4cf1a616-4778-456b-99b8-cb0f8b5bc027"
      },
      "source": [
        "# Importamos librerías para evaluar el comportamiento de la red\n",
        "import math\n",
        "from sklearn.metrics import mean_squared_error\n",
        "\n",
        "# Calcular error cuadrático medio\n",
        "train_score = math.sqrt(mean_squared_error(trainY, train_predict))\n",
        "test_score = math.sqrt(mean_squared_error(testY, test_predict))\n",
        "print('Error del entrenamiento: ', train_score,\n",
        "      '\\nError de la evaluación: ',test_score)"
      ],
      "execution_count": null,
      "outputs": [
        {
          "output_type": "stream",
          "text": [
            "Error del entrenamiento:  22.771822680741323 \n",
            "Error de la evaluación:  48.221575176470544\n"
          ],
          "name": "stdout"
        }
      ]
    },
    {
      "cell_type": "code",
      "metadata": {
        "colab": {
          "base_uri": "https://localhost:8080/",
          "height": 265
        },
        "id": "YLGyy531aw71",
        "outputId": "06e90f2a-8470-471f-8313-619b8287f84c"
      },
      "source": [
        "# Graficamos los valores observados y la predicción para cada uno de los conjuntos\n",
        "plt.plot(dataset.values[:,1])\n",
        "plt.plot(train_predict)\n",
        "pred_positions = [i for i in range(train_length, train_length + len(test_predict[:,0]))]\n",
        "plt.plot(pred_positions, test_predict)\n",
        "plt.legend(['Datos observados','Predicción del entrenamiento', 'Predicción de la prueba'])\n",
        "plt.show()"
      ],
      "execution_count": null,
      "outputs": [
        {
          "output_type": "display_data",
          "data": {
            "image/png": "[encoded data removed]",
            "text/plain": [
              "<Figure size 432x288 with 1 Axes>"
            ]
          },
          "metadata": {
            "tags": [],
            "needs_background": "light"
          }
        }
      ]
    },
    {
      "cell_type": "markdown",
      "metadata": {
        "id": "d3Dwr7V_Xfsx"
      },
      "source": [
        "## Ejercicio 6\n",
        "\n",
        "El modelo creado tiene tres capas, una es la entrada, que recibe los valores decl conjunto de datos, otra de ellas es oculta con cuatro módulos ```LSTM```, y la última es la capa de salida, que recibe las salidas de los módulos ```LSTM```. La entrada de la red es una lista de valores secuenciales, de manera que el valor al tiempo $t+1$ depende del valor al tiempo $t$ y puede depender también de los valores previos, esta dependencia es aprendida por la red al modificar los pesos para minimizar el error dado el conjunto de entrenamiento. Luego, cuando se toma otro conjunto de valores para producir una predicción (el conjunto de comprobación), este es pasado por la red con los parámetros ajustados, gracias a esto se puede producir una salida que se ajusta a las características de la serie."
      ]
    }
  ]
}