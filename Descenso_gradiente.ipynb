{
  "nbformat": 4,
  "nbformat_minor": 0,
  "metadata": {
    "colab": {
      "name": "Descenso gradiente.ipynb",
      "provenance": [],
      "collapsed_sections": [],
      "include_colab_link": true
    },
    "kernelspec": {
      "name": "python3",
      "display_name": "Python 3"
    }
  },
  "cells": [
    {
      "cell_type": "markdown",
      "metadata": {
        "id": "view-in-github",
        "colab_type": "text"
      },
      "source": [
        "<a href=\"https://colab.research.google.com/github/soy-esaul/Ejercicios-RNA/blob/main/Descenso_gradiente.ipynb\" target=\"_parent\"><img src=\"https://colab.research.google.com/assets/colab-badge.svg\" alt=\"Open In Colab\"/></a>"
      ]
    },
    {
      "cell_type": "code",
      "metadata": {
        "id": "lsSgy_j-4We5"
      },
      "source": [
        "# Primero importamos numpy\n",
        "import numpy as np\n",
        "\n",
        "# Ahora definimos dos funciones, la primera es la sigmoide que a cualquier número,\n",
        "# le asigna un valor entre -1 y 1\n",
        "def sigmoide(x):\n",
        "  return 1.0/(1+ np.exp(-x))\n",
        "\n",
        "# Luego definimos la derivada de la sigmoide\n",
        "def sigmoide_derivada(x):\n",
        "  return x * (1.0 - x)"
      ],
      "execution_count": null,
      "outputs": []
    },
    {
      "cell_type": "code",
      "metadata": {
        "id": "PaEBpRVCKVtw"
      },
      "source": [
        "# Para definir una red lo primero es establecer los valores de entrada, salida y\n",
        "# pesos de las aristas. Los pesos los definimos de manera aleatoria. La función shape\n",
        "# genera el tamaño de la matriz que la llama.\n",
        "\n",
        "class RedNeuronal:\n",
        "  def __init__(self, x, y):\n",
        "    self.entrada    = x\n",
        "    self.aristas1   = np.random.rand(self.entrada.shape[1],4) \n",
        "    self.aristas2   = np.random.rand(4,1)                 \n",
        "    self.y          = y\n",
        "    self.salida     = np.zeros(self.y.shape)\n",
        "    self.lista_err  = list()\n",
        "\n",
        "  # En esta clase definimos la función feedforward que es la propagación hacia adelante\n",
        "  def feedforward(self):\n",
        "    self.capa1  = sigmoide(np.dot(self.entrada, self.aristas1))\n",
        "    self.salida = sigmoide(np.dot(self.capa1, self.aristas2))\n",
        "\n",
        "  # También debemos definir la propagación hacia atrás\n",
        "  def backprop(self):\n",
        "    # La función de costo que determina el parecido entre la salida que produce la red y \n",
        "    # la salida que esperamos se calcula con la regla de la cadena de las aristas\n",
        "    diferencia = self.y - self.salida\n",
        "    error = 0\n",
        "    for i in range(len(diferencia)):\n",
        "      error += (diferencia[i])**2\n",
        "    self.lista_err.append(error[0])\n",
        "    d_aristas2 = np.dot(self.capa1.T, (diferencia * sigmoide_derivada(self.salida)))\n",
        "    d_aristas1 = np.dot(self.entrada.T,  (np.dot(diferencia * sigmoide_derivada(self.salida), self.aristas2.T) * sigmoide_derivada(self.capa1)))\n",
        "\n",
        "    # Cambiamos los valores de las aristas para repetir el proceso y mejorar\n",
        "    # la salida de la Red Neuronal hasta aproximar lo que deseamos\n",
        "    self.aristas1 += d_aristas1\n",
        "    self.aristas2 += d_aristas2"
      ],
      "execution_count": null,
      "outputs": []
    },
    {
      "cell_type": "code",
      "metadata": {
        "id": "v4sSNCX6ygv2",
        "colab": {
          "base_uri": "https://localhost:8080/"
        },
        "outputId": "2ee50d1d-2b08-47e8-ed75-a96708167c19"
      },
      "source": [
        "# La matriz X es un arreglo de vectores que son la entrada de nuestra Red Neuronal\n",
        "X = np.array([[0,0,1],\n",
        "              [0,1,1],\n",
        "              [1,0,1],\n",
        "              [1,1,1]])\n",
        "\n",
        "# El vector y es la salida que esperamos que produzca nuestra red\n",
        "y = np.array([[1],[.3],[0],[.2]])\n",
        "\n",
        "# Creamos un objeto \n",
        "nn = RedNeuronal(X,y)\n",
        "\n",
        "# Entrenamos la Red Neuronal con un ciclo for\n",
        "epochs = 100\n",
        "for i in range(epochs):\n",
        "  nn.feedforward()\n",
        "  nn.backprop()\n",
        "\n",
        "print(nn.salida)\n",
        "print(y)"
      ],
      "execution_count": null,
      "outputs": [
        {
          "output_type": "stream",
          "text": [
            "[[0.58200343]\n",
            " [0.3973564 ]\n",
            " [0.27302534]\n",
            " [0.18515252]]\n",
            "[[1. ]\n",
            " [0.3]\n",
            " [0. ]\n",
            " [0.2]]\n"
          ],
          "name": "stdout"
        }
      ]
    },
    {
      "cell_type": "markdown",
      "metadata": {
        "id": "JVpFzaE8A-V1"
      },
      "source": [
        "# Ejercicios:\n",
        "\n",
        "1. Cambia la función de costo para medir el error lineal, cuadrático y cúbico; considerando que este es el error cuadrático: ```error += (diferencia[i])**2```\n",
        "\n",
        "2. En un mismo plot grafica y compara los errores\n",
        "\n",
        "3. Aumenta el número de epocas y vuelve a comparar. ¿Qué nos dice esto del decenso del gradiente? ¿Qué fucnión de costo es mejor?\n",
        "\n",
        "Aquí hay más información del decenso gradiente:\n",
        "https://towardsdatascience.com/gradient-descent-algorithm-and-its-variants-10f652806a3"
      ]
    },
    {
      "cell_type": "code",
      "metadata": {
        "id": "lFDzmDHf28qc",
        "colab": {
          "base_uri": "https://localhost:8080/",
          "height": 265
        },
        "outputId": "df41899d-1382-47c7-a90b-56ea7a8f8d18"
      },
      "source": [
        "import matplotlib.pyplot as plt\n",
        "\n",
        "plt.plot(nn.lista_err)\n",
        "plt.show()"
      ],
      "execution_count": null,
      "outputs": [
        {
          "output_type": "display_data",
          "data": {
            "image/png": "[encoded data removed]",
            "text/plain": [
              "<Figure size 432x288 with 1 Axes>"
            ]
          },
          "metadata": {
            "tags": [],
            "needs_background": "light"
          }
        }
      ]
    },
    {
      "cell_type": "markdown",
      "metadata": {
        "id": "XKZoQ09hrf0I"
      },
      "source": [
        "## Ejercicio 1"
      ]
    },
    {
      "cell_type": "code",
      "metadata": {
        "id": "h3RTCnAR2_Fe"
      },
      "source": [
        "class RedNeuronal_err:\n",
        "  ''' Red neuronal que puede usar error lineal, cuadrático cúbico\n",
        "  Argumentos:\n",
        "     x: Entrada\n",
        "     y: Salida\n",
        "     n \\in {1,2,3}: tipo de error'''\n",
        "  def __init__(self, x, y, n):\n",
        "    self.entrada    = x\n",
        "    self.aristas1   = np.random.rand(self.entrada.shape[1],4) \n",
        "    self.aristas2   = np.random.rand(4,1)                 \n",
        "    self.y          = y\n",
        "    self.salida     = np.zeros(self.y.shape)\n",
        "    self.lista_err  = list()\n",
        "    self.n          = n\n",
        "\n",
        "  # En esta clase definimos la función feedforward que es la propagación hacia adelante\n",
        "  def feedforward(self):\n",
        "    self.capa1  = sigmoide(np.dot(self.entrada, self.aristas1))\n",
        "    self.salida = sigmoide(np.dot(self.capa1, self.aristas2))\n",
        "\n",
        "  # También debemos definir la propagación hacia atrás\n",
        "  def backprop(self):\n",
        "    # La función de costo que determina el parecido entre la salida que produce la red y \n",
        "    # la salida que esperamos se calcula con la regla de la cadena de las aristas\n",
        "    diferencia = self.y - self.salida\n",
        "    error = 0\n",
        "    for i in range(len(diferencia)):\n",
        "      error += (diferencia[i])**self.n\n",
        "    self.lista_err.append(error[0])\n",
        "    d_aristas2 = np.dot(self.capa1.T, (diferencia * sigmoide_derivada(self.salida)))\n",
        "    d_aristas1 = np.dot(self.entrada.T,  (np.dot(diferencia * sigmoide_derivada(self.salida), self.aristas2.T) * sigmoide_derivada(self.capa1)))\n",
        "\n",
        "    # Cambiamos los valores de las aristas para repetir el proceso y mejorar\n",
        "    # la salida de la Red Neuronal hasta aproximar lo que deseamos\n",
        "    self.aristas1 += d_aristas1\n",
        "    self.aristas2 += d_aristas2"
      ],
      "execution_count": null,
      "outputs": []
    },
    {
      "cell_type": "code",
      "metadata": {
        "colab": {
          "base_uri": "https://localhost:8080/"
        },
        "id": "qVnYqih-sfjv",
        "outputId": "2d00c17f-4bd3-447a-de35-e350366df8d9"
      },
      "source": [
        "# Creamos las redes con los tres tipos de error\n",
        "nn1 = RedNeuronal_err(X,y,1)\n",
        "nn2 = RedNeuronal_err(X,y,2)\n",
        "nn3 = RedNeuronal_err(X,y,3)\n",
        "\n",
        "# Creamos una lista con las redes:\n",
        "Redes = [nn1, nn2, nn3]\n",
        "\n",
        "# Entrenamos las redes:\n",
        "epochs = 100\n",
        "for i in range(epochs):\n",
        "  for red in Redes:\n",
        "    red.feedforward()\n",
        "    red.backprop()\n",
        "\n",
        "# Salida de cada red:\n",
        "for red in Redes:\n",
        "  print(\"Exponente: \", Redes.index(red), \"\\nSalida:\\n\", red.salida, '\\n')\n"
      ],
      "execution_count": null,
      "outputs": [
        {
          "output_type": "stream",
          "text": [
            "Exponente:  0 \n",
            "Salida:\n",
            " [[0.52594248]\n",
            " [0.42001926]\n",
            " [0.26950155]\n",
            " [0.22945289]] \n",
            "\n",
            "Exponente:  1 \n",
            "Salida:\n",
            " [[0.72947279]\n",
            " [0.39789858]\n",
            " [0.18827247]\n",
            " [0.10022684]] \n",
            "\n",
            "Exponente:  2 \n",
            "Salida:\n",
            " [[0.52662114]\n",
            " [0.38418196]\n",
            " [0.30023139]\n",
            " [0.23649278]] \n",
            "\n"
          ],
          "name": "stdout"
        }
      ]
    },
    {
      "cell_type": "markdown",
      "metadata": {
        "id": "wwcyBSL6uVrk"
      },
      "source": [
        "### Ejercicio 2"
      ]
    },
    {
      "cell_type": "code",
      "metadata": {
        "colab": {
          "base_uri": "https://localhost:8080/",
          "height": 265
        },
        "id": "MFEd42ACtg17",
        "outputId": "b6f9ee0c-7d6d-40c0-a09e-7f3bc9d4b1fe"
      },
      "source": [
        "# Gráfica de los errores en cada red\n",
        "for red in Redes:\n",
        "  plt.plot(red.lista_err)\n",
        "  plt.legend(['lineal','cuadrático','cúbico'], loc=\"lower right\")\n",
        "\n",
        "plt.show()"
      ],
      "execution_count": null,
      "outputs": [
        {
          "output_type": "display_data",
          "data": {
            "image/png": "[encoded data removed]",
            "text/plain": [
              "<Figure size 432x288 with 1 Axes>"
            ]
          },
          "metadata": {
            "tags": [],
            "needs_background": "light"
          }
        }
      ]
    },
    {
      "cell_type": "markdown",
      "metadata": {
        "id": "R4vAjRhMv-eP"
      },
      "source": [
        "### Ejercicio 3"
      ]
    },
    {
      "cell_type": "code",
      "metadata": {
        "colab": {
          "base_uri": "https://localhost:8080/",
          "height": 317
        },
        "id": "Ex41OReyum_1",
        "outputId": "11c82181-b797-4e70-c952-24097b34fd0b"
      },
      "source": [
        "# Creamos las redes de nuevo para inicializar los valores desde cero\n",
        "nn1 = RedNeuronal_err(X,y,1)\n",
        "nn2 = RedNeuronal_err(X,y,2)\n",
        "nn3 = RedNeuronal_err(X,y,3)\n",
        "\n",
        "# Creamos una lista con las redes:\n",
        "Redes = [nn1, nn2, nn3]\n",
        "\n",
        "# Entrenamos de nuevo con más épocas\n",
        "epochs = 1000\n",
        "for i in range(epochs):\n",
        "  for red in Redes:\n",
        "    red.feedforward()\n",
        "    red.backprop()\n",
        "\n",
        "# Graficamos de nuevo los errores en cada red\n",
        "for red in Redes:\n",
        "  plt.plot(red.lista_err)\n",
        "  plt.legend(['Lineal','Cuadrático','Cúbico'], loc=\"lower right\")\n",
        "  print(red.lista_err[-1])\n",
        "\n",
        "plt.show()"
      ],
      "execution_count": null,
      "outputs": [
        {
          "output_type": "stream",
          "text": [
            "0.04017592663990735\n",
            "0.004845160240209293\n",
            "0.0007856055768789339\n"
          ],
          "name": "stdout"
        },
        {
          "output_type": "display_data",
          "data": {
            "image/png": "[encoded data removed]",
            "text/plain": [
              "<Figure size 432x288 with 1 Axes>"
            ]
          },
          "metadata": {
            "tags": [],
            "needs_background": "light"
          }
        }
      ]
    },
    {
      "cell_type": "markdown",
      "metadata": {
        "id": "ejdnDPFHxDOS"
      },
      "source": [
        "## Conclusiones:\n",
        "\n",
        "De los tres tipos de red, la que usa error cuadrático medio es la que tarda más épocas para llegar a un error menor que 0.5, mientras que después de alrededor de 180 épocas, la red con error lineal converge más lentamente que las otras dos hacia el cero. \n",
        "\n",
        "La red con error cúbico es la que converge más rápidamente y la que tiene un error final más próximo a cero, esto no es necesariamente bueno, pues un modelo con un error demasiado bajo para el conjunto de entrenamiento puede estar \"sobre entrenado\", lo que significa que al usar esta red con valores nuevos puede tener un desempeño más pobre. Normalmente se busca en la red neuronal un equilibrio entre un buen ajuste a los datos y un cierto grado de flexibilidad, que considere la presencia de ruido aleatorio en los mismos, en este sentido, la red con error cuadrático medio es la que mejor cumple con estas características.\n",
        "\n",
        "Por otra parte, al variar las épocas de entrenamiento, se nota que el ritmo de convergencia disminuye, entonces a partir de cierto punto ya no se logra mejorar significativamente el entrenamiento, aunque si se invierte más tiempo. Esto es debido a que el ritmo de aprendizaje está dado en función del error, por lo tanto a medida que disminuye el error, también lo hace el ritmo de aprendizaje. EL objetivo es entonces definir una cantidad de épocas de entrenamiento lo suficientemente grande para que se logre ajustar a un nivel de error aceptable, y lo suficientemente pequeño para no desperdiciar tiempo de cómputo o sobre entrenar el modelo."
      ]
    },
    {
      "cell_type": "code",
      "metadata": {
        "id": "W0onQhaJwQPc"
      },
      "source": [
        ""
      ],
      "execution_count": null,
      "outputs": []
    }
  ]
}